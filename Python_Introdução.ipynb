{
  "nbformat": 4,
  "nbformat_minor": 0,
  "metadata": {
    "colab": {
      "name": "Python:Introdução.ipynb",
      "provenance": [],
      "collapsed_sections": [],
      "include_colab_link": true
    },
    "kernelspec": {
      "name": "python3",
      "display_name": "Python 3"
    },
    "language_info": {
      "name": "python"
    }
  },
  "cells": [
    {
      "cell_type": "markdown",
      "metadata": {
        "id": "view-in-github",
        "colab_type": "text"
      },
      "source": [
        "<a href=\"https://colab.research.google.com/github/MaolyLaraSerrano/Programando-para-web-com-Python-CSS-e-HTML-/blob/main/Python_Introdu%C3%A7%C3%A3o.ipynb\" target=\"_parent\"><img src=\"https://colab.research.google.com/assets/colab-badge.svg\" alt=\"Open In Colab\"/></a>"
      ]
    },
    {
      "cell_type": "markdown",
      "metadata": {
        "id": "p-q9cZL2tPvE"
      },
      "source": [
        "# Um pouco sobre a história da computação."
      ]
    },
    {
      "cell_type": "markdown",
      "metadata": {
        "id": "UzNxxj6M_bqq"
      },
      "source": [
        "## O que é programação?"
      ]
    },
    {
      "cell_type": "markdown",
      "metadata": {
        "id": "INxvCxfL_3Jn"
      },
      "source": [
        "## O que é um programa de computador?\n",
        "\n"
      ]
    },
    {
      "cell_type": "markdown",
      "metadata": {
        "id": "LLoSPWxQADqa"
      },
      "source": [
        "## O que é um algoritmo?"
      ]
    },
    {
      "cell_type": "markdown",
      "metadata": {
        "id": "SyJDtR9DAI8V"
      },
      "source": [
        "# Python\n",
        "### Aplicações python\n",
        "### Ambientes de programação python\n",
        "\n",
        "\n",
        "\n"
      ]
    },
    {
      "cell_type": "markdown",
      "metadata": {
        "id": "TF1tX30Pj6dT"
      },
      "source": [
        "# A linguagem Python"
      ]
    },
    {
      "cell_type": "code",
      "metadata": {
        "colab": {
          "base_uri": "https://localhost:8080/"
        },
        "id": "z9DaUt8NkEMb",
        "outputId": "5f42e7de-7cde-4e93-a932-379bb274b27f"
      },
      "source": [
        "print(\"Hello World\") #  Este é um comentário"
      ],
      "execution_count": null,
      "outputs": [
        {
          "output_type": "stream",
          "text": [
            "Hello World\n"
          ],
          "name": "stdout"
        }
      ]
    },
    {
      "cell_type": "markdown",
      "metadata": {
        "id": "gTtyE3plpq4x"
      },
      "source": [
        "# Tipos de dados em Python"
      ]
    },
    {
      "cell_type": "code",
      "metadata": {
        "colab": {
          "base_uri": "https://localhost:8080/"
        },
        "id": "0qV5ISL1utuu",
        "outputId": "c0b54743-260d-4d45-f2ca-44ecfd0ff7b0"
      },
      "source": [
        " aluno  = \"Elisangela\"\n",
        "print(aluno)"
      ],
      "execution_count": null,
      "outputs": [
        {
          "output_type": "stream",
          "text": [
            "Elisangela\n"
          ],
          "name": "stdout"
        }
      ]
    },
    {
      "cell_type": "code",
      "metadata": {
        "colab": {
          "base_uri": "https://localhost:8080/"
        },
        "id": "SsGvi_VXpxNc",
        "outputId": "397dfd46-da91-46a5-abf2-9f60794f5bc6"
      },
      "source": [
        "print(type(27)) # O tipo de dados do número 27 é int(numero inteiro)\n",
        "print(type(5.7)) # O tipo de dados do número 5.7 é float(numero decimal)\n",
        "print(type(5.7 + 27j)) # O tipo de dados do número 5.7 é complex (numero coplex)\n",
        "print(type('Isso é um texto, \"Aspas\" \\n'))\n",
        "print(type(False))"
      ],
      "execution_count": null,
      "outputs": [
        {
          "output_type": "stream",
          "text": [
            "<class 'int'>\n",
            "<class 'float'>\n",
            "<class 'complex'>\n",
            "<class 'str'>\n",
            "<class 'bool'>\n"
          ],
          "name": "stdout"
        }
      ]
    },
    {
      "cell_type": "markdown",
      "metadata": {
        "id": "1Aajf9fIK1qx"
      },
      "source": [
        "# Variáveis "
      ]
    },
    {
      "cell_type": "code",
      "metadata": {
        "id": "tCWKfak6LZ4Y"
      },
      "source": [
        "nome = \"Danilo\""
      ],
      "execution_count": null,
      "outputs": []
    }
  ]
}